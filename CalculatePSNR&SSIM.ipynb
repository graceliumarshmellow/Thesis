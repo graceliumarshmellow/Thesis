{
 "cells": [
  {
   "cell_type": "markdown",
   "id": "dac42d96",
   "metadata": {},
   "source": [
    "# Functions used to calculate the PSNR and SSIM of images"
   ]
  },
  {
   "cell_type": "code",
   "execution_count": 1,
   "id": "12a98716",
   "metadata": {},
   "outputs": [],
   "source": [
    "import numpy as np\n",
    "from fastai.vision.all import *\n",
    "from skimage.metrics import structural_similarity as ssim"
   ]
  },
  {
   "cell_type": "code",
   "execution_count": 2,
   "id": "847c5d75",
   "metadata": {},
   "outputs": [],
   "source": [
    "# Metrics\n",
    "def PSNR(gt, image, max_value=1):\n",
    "    \"\"\"Function to calculate peak signal-to-noise ratio (PSNR) between two images.\"\"\"\n",
    "    #bs, channels, height, width = gt.shape\n",
    "    mse = MSELossFlat() # calculate mean square error\n",
    "    mse = mse(gt, image) \n",
    "    #if mse == 0:\n",
    "    #    return 100\n",
    "    return 20 * torch.log10(max_value / (torch.sqrt(mse)))\n",
    "\n",
    "def SSIM(gt, image):\n",
    "    return ssim(gt.cpu().numpy(), image.cpu().numpy(), multichannel=1, win_size=3)"
   ]
  },
  {
   "cell_type": "code",
   "execution_count": 3,
   "id": "f30e852d",
   "metadata": {},
   "outputs": [],
   "source": [
    "def calculateStats(noisy_img_path, clean_img_path, reconstructed_img_path):\n",
    "    i = torch.tensor(np.array(PILImage.create(noisy_img_path)))\n",
    "    j = torch.tensor(np.array(PILImage.create(clean_img_path)))\n",
    "    k = torch.tensor(np.array(PILImage.create(reconstructed_img_path)))\n",
    "    print(\"Denoised PSNR: \" + str(PSNR(j, k, 255)))\n",
    "    print(\"Denoised SSIM: \" + str(SSIM(j, k)))\n",
    "    print(\"Noisy PSNR: \" + str(PSNR(j, i, 255)))\n",
    "    print(\"Noisy SSIM: \" + str(SSIM(j, i)))\n",
    "    print(\"Clean PSNR:\" + str(PSNR(j, j, 255)))\n",
    "    print(\"Clean SSIM:\" + str(SSIM(j, j)))"
   ]
  },
  {
   "cell_type": "markdown",
   "id": "9c05cf9f",
   "metadata": {},
   "source": [
    "# Example"
   ]
  },
  {
   "cell_type": "code",
   "execution_count": 4,
   "id": "4352c40e",
   "metadata": {},
   "outputs": [
    {
     "name": "stdout",
     "output_type": "stream",
     "text": [
      "Denoised PSNR: TensorBase(38.9246)\n"
     ]
    },
    {
     "name": "stderr",
     "output_type": "stream",
     "text": [
      "C:\\Users\\grace\\AppData\\Local\\Temp\\ipykernel_4688\\1559951901.py:12: FutureWarning: `multichannel` is a deprecated argument name for `structural_similarity`. It will be removed in version 1.0. Please use `channel_axis` instead.\n",
      "  return ssim(gt.cpu().numpy(), image.cpu().numpy(), multichannel=1, win_size=3)\n"
     ]
    },
    {
     "name": "stdout",
     "output_type": "stream",
     "text": [
      "Denoised SSIM: 0.9425871655366475\n",
      "Noisy PSNR: TensorBase(29.2537)\n",
      "Noisy SSIM: 0.6037446497567736\n",
      "Clean PSNR:TensorBase(inf)\n",
      "Clean SSIM:1.0\n"
     ]
    }
   ],
   "source": [
    "calculateStats(\n",
    "    \"EL noisy.png\", \n",
    "    \"EL clean.png\",\n",
    "    \"EL U-net.png\")"
   ]
  }
 ],
 "metadata": {
  "kernelspec": {
   "display_name": "Python 3 (ipykernel)",
   "language": "python",
   "name": "python3"
  },
  "language_info": {
   "codemirror_mode": {
    "name": "ipython",
    "version": 3
   },
   "file_extension": ".py",
   "mimetype": "text/x-python",
   "name": "python",
   "nbconvert_exporter": "python",
   "pygments_lexer": "ipython3",
   "version": "3.8.13"
  }
 },
 "nbformat": 4,
 "nbformat_minor": 5
}
