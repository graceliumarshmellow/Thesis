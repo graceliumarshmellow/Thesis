{
 "cells": [
  {
   "cell_type": "markdown",
   "id": "987bc9bd",
   "metadata": {},
   "source": [
    "## Code used for producing the results of the EL image section. Only works on a computer that has a GPU"
   ]
  },
  {
   "cell_type": "markdown",
   "id": "c43199ab",
   "metadata": {},
   "source": [
    "# U-net training"
   ]
  },
  {
   "cell_type": "code",
   "execution_count": null,
   "id": "1d08c74e",
   "metadata": {},
   "outputs": [],
   "source": [
    "import numpy as np\n",
    "from fastai.vision.all import *\n",
    "from skimage.util import random_noise\n",
    "from skimage.metrics import structural_similarity as ssim\n",
    "import cv2\n",
    "\n",
    "random.seed(42) # setting random seed"
   ]
  },
  {
   "cell_type": "code",
   "execution_count": null,
   "id": "886118cd",
   "metadata": {},
   "outputs": [],
   "source": [
    "# Please change these file names to the files with your images\n",
    "path_PV_images = Path(\"../../Data\")\n",
    "path_poissongaussian_noisy = path_PV_images/\"PoissonGaussianDirty\"\n",
    "path_poisson_noisy = path_PV_images/\"PoissonDirty\"\n",
    "path_clean = path_PV_images/\"CleanFull\""
   ]
  },
  {
   "cell_type": "code",
   "execution_count": null,
   "id": "7c2bdfba",
   "metadata": {},
   "outputs": [],
   "source": [
    "# Metrics\n",
    "def PSNR(gt, image, max_value=1):\n",
    "    \"\"\"Function to calculate peak signal-to-noise ratio (PSNR) between two images.\"\"\"\n",
    "    mse = MSELossFlat() # calculate mean square error\n",
    "    mse = mse(gt, image) \n",
    "    return 20 * torch.log10(max_value / (torch.sqrt(mse)))\n",
    "\n",
    "def SSIM(gt, image):\n",
    "    \"\"\"Function to calculate the SSIM between two images\"\"\"\n",
    "    return ssim(gt.cpu().numpy(), image.cpu().numpy(), multichannel=1, win_size=3) # changed multichanel from 3 to 1"
   ]
  },
  {
   "cell_type": "code",
   "execution_count": null,
   "id": "8ef01154",
   "metadata": {},
   "outputs": [],
   "source": [
    "# Define gaussian noise function and create DataBlock\n",
    "class TensorImageBWInput(TensorImage): pass\n",
    "class PILImageBWInput(PILImageBW): pass\n",
    "PILImageBWInput._tensor_cls = TensorImageBWInput\n",
    "\n",
    "class AddGaussianNoise(RandTransform):\n",
    "    def __init__(self, mean=0., var=1., **kwargs):\n",
    "        self.var = var\n",
    "        self.mean = mean\n",
    "        super().__init__(**kwargs)\n",
    "        \n",
    "    def encodes(self, x:TensorImageBWInput):\n",
    "        # Notes: random_noise converts tensor image x into floating point [0, 1] (normalisation)\n",
    "        # then adds on the random noise and returns the image in floating point [0, 1]\n",
    "        return TensorImage(random_noise(x.cpu(), mode=\"gaussian\", mean=self.mean, var=self.var))*255 # removed .cuda()\n",
    "        # Multiplied with 255 to bring it back from [0, 1] to [0, 255]"
   ]
  },
  {
   "cell_type": "code",
   "execution_count": null,
   "id": "5ffce6d7",
   "metadata": {},
   "outputs": [],
   "source": [
    "def save_image(img_tensor, path):\n",
    "    img = PILImage.create(img_tensor) # Create PILImage from tensor\n",
    "    img.save(path) # Save image to path destination"
   ]
  },
  {
   "cell_type": "code",
   "execution_count": null,
   "id": "18fec40b",
   "metadata": {},
   "outputs": [],
   "source": [
    "## HYPERPARAMETERS/SETTINGS ----------------------------------------------------\n",
    "arch = models.resnet34\n",
    "wd = 1e-3\n",
    "y_range = (-3.,3.)\n",
    "loss_func = MSELossFlat()\n",
    "item_tfms = [RandomResizedCrop(520, min_scale=0.5)]\n",
    "batch_tfms = [AddGaussianNoise(0, random.uniform(0.0001, 0.001))]\n",
    "bs = 4\n",
    "num_of_cycles = 20\n",
    "save_name = 'LocalRandomCrop20CyclesResnet34'\n",
    "model_save_path = F\"Models/{save_name}\"\n",
    "image_save_path = F\"Data/Results/{save_name}.png\""
   ]
  },
  {
   "cell_type": "code",
   "execution_count": null,
   "id": "f61ab84b",
   "metadata": {},
   "outputs": [],
   "source": [
    "def create_data_block(item_tfms):\n",
    "    return DataBlock(blocks=(ImageBlock(cls=PILImageBWInput), ImageBlock(cls=PILImageBW)), # x and y are bw images\n",
    "              get_items=get_image_files,\n",
    "              get_y=lambda o: path_clean/f'{o.stem}{o.suffix}', # y label is clean original image\n",
    "              splitter=RandomSplitter(valid_pct=0.2, seed=42), # split 80% training and 20% valid\n",
    "              item_tfms=item_tfms, # crop origianlly 224\n",
    "              batch_tfms=batch_tfms) \n",
    "\n",
    "def create_dataloader(item_tfms):\n",
    "    db = create_data_block(item_tfms)\n",
    "    dl = db.dataloaders(path_poisson_noisy, bs=bs)\n",
    "    dl.c = 3\n",
    "    dl.show_batch(cmap='gray') # need 'gray' because cls=PILImageBW\n",
    "    return dl\n",
    "\n",
    "def create_unet(dl):\n",
    "    return unet_learner(dl, arch, wd=wd, blur=True, norm_type=NormType.Weight,\n",
    "                          loss_func=loss_func, metrics=[PSNR, SSIM])"
   ]
  },
  {
   "cell_type": "code",
   "execution_count": null,
   "id": "5bbf23f9",
   "metadata": {},
   "outputs": [],
   "source": [
    "dl = create_dataloader(item_tfms)"
   ]
  },
  {
   "cell_type": "code",
   "execution_count": null,
   "id": "d2d5d394",
   "metadata": {},
   "outputs": [],
   "source": [
    "learner = create_unet(dl)"
   ]
  },
  {
   "cell_type": "code",
   "execution_count": null,
   "id": "80639e67",
   "metadata": {},
   "outputs": [],
   "source": [
    "learner.fit_one_cycle(num_of_cycles, pct_start=0.8)\n",
    "# For the experimental validation on the PL images, the only difference is the addition of learner.fine_tune(3)"
   ]
  },
  {
   "cell_type": "code",
   "execution_count": null,
   "id": "62b4e6ce",
   "metadata": {},
   "outputs": [],
   "source": [
    "# Save model\n",
    "learner.save(model_save_path)"
   ]
  },
  {
   "cell_type": "code",
   "execution_count": null,
   "id": "f6df6cee",
   "metadata": {},
   "outputs": [],
   "source": [
    "# Reload model with no random resize crop\n",
    "dl_img = create_dataloader(None)\n",
    "# Load model from saved file\n",
    "learner = create_unet(dl_img)\n",
    "learner.load(model_save_path)"
   ]
  },
  {
   "cell_type": "code",
   "execution_count": null,
   "id": "3cf09b36",
   "metadata": {},
   "outputs": [],
   "source": [
    "# Run to produce an example of an denoised image\n",
    "img, b, c = learner.predict(torch.tensor(np.array(PILImage.create(\"EL noisy\")))) # Get tensor for dirty image\n",
    "save_image(img, image_save_path)"
   ]
  },
  {
   "cell_type": "markdown",
   "id": "56201dad",
   "metadata": {},
   "source": [
    "# BM3D - traditional denoising"
   ]
  },
  {
   "cell_type": "code",
   "execution_count": null,
   "id": "690a4f88",
   "metadata": {
    "scrolled": false
   },
   "outputs": [],
   "source": [
    "from bm3d import bm3d\n",
    "bm3d(dl.valid_ds.items)"
   ]
  }
 ],
 "metadata": {
  "kernelspec": {
   "display_name": "Python 3 (ipykernel)",
   "language": "python",
   "name": "python3"
  },
  "language_info": {
   "codemirror_mode": {
    "name": "ipython",
    "version": 3
   },
   "file_extension": ".py",
   "mimetype": "text/x-python",
   "name": "python",
   "nbconvert_exporter": "python",
   "pygments_lexer": "ipython3",
   "version": "3.8.13"
  }
 },
 "nbformat": 4,
 "nbformat_minor": 5
}
